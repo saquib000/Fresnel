{
  "nbformat": 4,
  "nbformat_minor": 0,
  "metadata": {
    "colab": {
      "provenance": []
    },
    "kernelspec": {
      "name": "python3",
      "display_name": "Python 3"
    },
    "language_info": {
      "name": "python"
    }
  },
  "cells": [
    {
      "cell_type": "code",
      "execution_count": null,
      "metadata": {
        "id": "jeFN7f25r-S1"
      },
      "outputs": [],
      "source": [
        "\n",
        "import matplotlib.pyplot as plt \n",
        "import math\n",
        "o = 1/1.5\n",
        "def f(x):\n",
        "  a = math.sqrt( 1- ( ( o*math.sin(math.radians(x)) )**2 ) )\n",
        "  b = math.cos(math.radians(x))\n",
        "  alpha= a/b\n",
        "  beta = 1.5 \n",
        "  return (alpha - 1.5)/(alpha+1.5) #2/(alpha + 1.5)"
      ]
    },
    {
      "cell_type": "code",
      "source": [],
      "metadata": {
        "id": "ss_SL99fb-4E"
      },
      "execution_count": null,
      "outputs": []
    },
    {
      "cell_type": "code",
      "source": [
        "xlist = range(90)\n",
        "ylist = []\n",
        "\n",
        "for i in range(90):\n",
        "  ylist.append(f(i))\n",
        "\n"
      ],
      "metadata": {
        "id": "doYLXH5yucG-"
      },
      "execution_count": null,
      "outputs": []
    },
    {
      "cell_type": "code",
      "source": [],
      "metadata": {
        "id": "1bedJrk-cKJu"
      },
      "execution_count": null,
      "outputs": []
    },
    {
      "cell_type": "code",
      "source": [
        "l = [1,2,4]\n",
        "ll= [1,4,3]\n"
      ],
      "metadata": {
        "id": "9vriHMjAug8-"
      },
      "execution_count": null,
      "outputs": []
    },
    {
      "cell_type": "code",
      "source": [
        "plt.plot(xlist,ylist)"
      ],
      "metadata": {
        "colab": {
          "base_uri": "https://localhost:8080/",
          "height": 282
        },
        "id": "fVGOx2hAuiq-",
        "outputId": "a9912c40-275e-4a97-8dd5-548baca332a7"
      },
      "execution_count": null,
      "outputs": [
        {
          "output_type": "execute_result",
          "data": {
            "text/plain": [
              "[<matplotlib.lines.Line2D at 0x7f66bb320810>]"
            ]
          },
          "metadata": {},
          "execution_count": 5
        },
        {
          "output_type": "display_data",
          "data": {
            "text/plain": [
              "<Figure size 432x288 with 1 Axes>"
            ],
            "image/png": "[encoded data removed]"
          },
          "metadata": {
            "needs_background": "light"
          }
        }
      ]
    },
    {
      "cell_type": "markdown",
      "source": [
        "EoR/EoI"
      ],
      "metadata": {
        "id": "ezlKzKihcsV9"
      }
    },
    {
      "cell_type": "code",
      "source": [
        "f(60)"
      ],
      "metadata": {
        "colab": {
          "base_uri": "https://localhost:8080/"
        },
        "id": "XFK21JAFsV9l",
        "outputId": "bca18135-e880-46f4-d6f7-1100c263a29f"
      },
      "execution_count": null,
      "outputs": [
        {
          "output_type": "execute_result",
          "data": {
            "text/plain": [
              "0.63836717690617"
            ]
          },
          "metadata": {},
          "execution_count": 34
        }
      ]
    },
    {
      "cell_type": "code",
      "source": [
        "o = 1/1.5\n",
        "def g(x):\n",
        "  a = math.sqrt( 1- ( ( o*math.sin(math.radians(x)) )**2 ) )\n",
        "  b = math.cos(math.radians(x))\n",
        "  alpha= a/b\n",
        "  beta = 1.5 \n",
        "  return 2/(alpha + 1.5) #(alpha - 1.5)/(alpha+1.5) \n",
        "  "
      ],
      "metadata": {
        "id": "k633WWiQcARx"
      },
      "execution_count": null,
      "outputs": []
    },
    {
      "cell_type": "code",
      "source": [
        "x2list = range(90)\n",
        "y2list = []\n",
        "\n",
        "for i in range(90):\n",
        "  y2list.append(g(i))"
      ],
      "metadata": {
        "id": "0RFx2-KIcLad"
      },
      "execution_count": null,
      "outputs": []
    },
    {
      "cell_type": "code",
      "source": [
        "plt.plot(x2list,y2list)"
      ],
      "metadata": {
        "colab": {
          "base_uri": "https://localhost:8080/",
          "height": 282
        },
        "id": "HUpsMU8rcZrz",
        "outputId": "b2b7d0ff-1955-4caa-fc86-5c82fbbea1c5"
      },
      "execution_count": null,
      "outputs": [
        {
          "output_type": "execute_result",
          "data": {
            "text/plain": [
              "[<matplotlib.lines.Line2D at 0x7f66bae419d0>]"
            ]
          },
          "metadata": {},
          "execution_count": 7
        },
        {
          "output_type": "display_data",
          "data": {
            "text/plain": [
              "<Figure size 432x288 with 1 Axes>"
            ],
            "image/png": "[encoded data removed]"
          },
          "metadata": {
            "needs_background": "light"
          }
        }
      ]
    }
  ]
}